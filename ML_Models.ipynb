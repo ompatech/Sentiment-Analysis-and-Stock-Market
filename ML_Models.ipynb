{
 "cells": [
  {
   "cell_type": "code",
   "execution_count": 195,
   "id": "11b5b356",
   "metadata": {},
   "outputs": [],
   "source": [
    "# Logistic Regression\n",
    "import numpy as np\n",
    "import pandas as pd\n",
    "from sklearn.model_selection import train_test_split\n",
    "from sklearn.preprocessing import StandardScaler\n",
    "from sklearn.linear_model import LogisticRegression\n",
    "from sklearn.metrics import accuracy_score, confusion_matrix, ConfusionMatrixDisplay\n",
    "from sklearn.metrics import confusion_matrix\n",
    "from sklearn.model_selection import RepeatedStratifiedKFold, GridSearchCV\n",
    "from sklearn.neighbors import KNeighborsClassifier\n",
    "from sklearn.svm import SVC\n",
    "from sklearn.tree import DecisionTreeClassifier\n",
    "from sklearn.ensemble import BaggingClassifier, RandomForestClassifier\n",
    "from sklearn.naive_bayes import GaussianNB\n",
    "import joblib"
   ]
  },
  {
   "cell_type": "code",
   "execution_count": 2,
   "id": "0c9ccaea",
   "metadata": {},
   "outputs": [],
   "source": [
    "data = pd.read_csv('AAPL_Train_Test.csv')"
   ]
  },
  {
   "cell_type": "code",
   "execution_count": 3,
   "id": "fdae9366",
   "metadata": {
    "scrolled": false
   },
   "outputs": [],
   "source": [
    "X, y = data['IMPACT_SCORE'].to_numpy(), data['stock_pattern'].astype(float).to_numpy()\n",
    "X = X.reshape(-1, 1)"
   ]
  },
  {
   "cell_type": "code",
   "execution_count": 4,
   "id": "46a00d97",
   "metadata": {},
   "outputs": [
    {
     "data": {
      "text/plain": [
       "((256, 1), (256,))"
      ]
     },
     "execution_count": 4,
     "metadata": {},
     "output_type": "execute_result"
    }
   ],
   "source": [
    "X.shape, y.shape"
   ]
  },
  {
   "cell_type": "code",
   "execution_count": 166,
   "id": "9e5fa4c1",
   "metadata": {},
   "outputs": [
    {
     "name": "stdout",
     "output_type": "stream",
     "text": [
      "Accuracy: 57.14 %\n",
      "Confusion Matrix:\n"
     ]
    },
    {
     "data": {
      "text/plain": [
       "<sklearn.metrics._plot.confusion_matrix.ConfusionMatrixDisplay at 0x1d81102a790>"
      ]
     },
     "execution_count": 166,
     "metadata": {},
     "output_type": "execute_result"
    },
    {
     "data": {
      "image/png": "[encoded data removed]",
      "text/plain": [
       "<Figure size 640x480 with 2 Axes>"
      ]
     },
     "metadata": {},
     "output_type": "display_data"
    }
   ],
   "source": [
    "# Logistic Regression\n",
    "X_train, X_test, y_train, y_test = train_test_split(X, y, test_size=0.3, random_state=42)\n",
    "scaler = StandardScaler()\n",
    "X_train = scaler.fit_transform(X_train)\n",
    "X_test = scaler.fit_transform(X_test)\n",
    "model_0 = LogisticRegression(C= 1.0, penalty= 'l2', solver= 'liblinear')\n",
    "model_0.fit(X_train, y_train)\n",
    "\n",
    "y_pred = model_0.predict(X_test)\n",
    "accuracy = accuracy_score(y_test, y_pred) * 100\n",
    "\n",
    "conf_matrix = confusion_matrix(y_test, y_pred)\n",
    "\n",
    "\n",
    "print(f\"Accuracy: {accuracy:.2f} %\")\n",
    "print(\"Confusion Matrix:\")\n",
    "disp = ConfusionMatrixDisplay(confusion_matrix=conf_matrix,\n",
    "                              display_labels=model_0.classes_)\n",
    "disp.plot()"
   ]
  },
  {
   "cell_type": "code",
   "execution_count": 6,
   "id": "c1fb0b95",
   "metadata": {},
   "outputs": [
    {
     "name": "stdout",
     "output_type": "stream",
     "text": [
      "Best: 0.541641 using {'C': 1.0, 'penalty': 'l2', 'solver': 'liblinear'}\n",
      "0.532615 (0.042011) with: {'C': 100, 'penalty': 'l2', 'solver': 'newton-cg'}\n",
      "0.532615 (0.042011) with: {'C': 100, 'penalty': 'l2', 'solver': 'lbfgs'}\n",
      "0.532615 (0.042011) with: {'C': 100, 'penalty': 'l2', 'solver': 'liblinear'}\n",
      "0.532615 (0.042011) with: {'C': 100, 'penalty': 'l2', 'solver': 'newton-cholesky'}\n",
      "0.532615 (0.042011) with: {'C': 100, 'penalty': 'l2', 'solver': 'sag'}\n",
      "0.532615 (0.042011) with: {'C': 100, 'penalty': 'l2', 'solver': 'saga'}\n",
      "0.536513 (0.038776) with: {'C': 10, 'penalty': 'l2', 'solver': 'newton-cg'}\n",
      "0.536513 (0.038776) with: {'C': 10, 'penalty': 'l2', 'solver': 'lbfgs'}\n",
      "0.536513 (0.038776) with: {'C': 10, 'penalty': 'l2', 'solver': 'liblinear'}\n",
      "0.536513 (0.038776) with: {'C': 10, 'penalty': 'l2', 'solver': 'newton-cholesky'}\n",
      "0.536513 (0.038776) with: {'C': 10, 'penalty': 'l2', 'solver': 'sag'}\n",
      "0.536513 (0.038776) with: {'C': 10, 'penalty': 'l2', 'solver': 'saga'}\n",
      "0.540308 (0.023918) with: {'C': 1.0, 'penalty': 'l2', 'solver': 'newton-cg'}\n",
      "0.540308 (0.023918) with: {'C': 1.0, 'penalty': 'l2', 'solver': 'lbfgs'}\n",
      "0.541641 (0.026002) with: {'C': 1.0, 'penalty': 'l2', 'solver': 'liblinear'}\n",
      "0.540308 (0.023918) with: {'C': 1.0, 'penalty': 'l2', 'solver': 'newton-cholesky'}\n",
      "0.540308 (0.023918) with: {'C': 1.0, 'penalty': 'l2', 'solver': 'sag'}\n",
      "0.540308 (0.023918) with: {'C': 1.0, 'penalty': 'l2', 'solver': 'saga'}\n",
      "0.539077 (0.012672) with: {'C': 0.1, 'penalty': 'l2', 'solver': 'newton-cg'}\n",
      "0.539077 (0.012672) with: {'C': 0.1, 'penalty': 'l2', 'solver': 'lbfgs'}\n",
      "0.539077 (0.012672) with: {'C': 0.1, 'penalty': 'l2', 'solver': 'liblinear'}\n",
      "0.539077 (0.012672) with: {'C': 0.1, 'penalty': 'l2', 'solver': 'newton-cholesky'}\n",
      "0.539077 (0.012672) with: {'C': 0.1, 'penalty': 'l2', 'solver': 'sag'}\n",
      "0.539077 (0.012672) with: {'C': 0.1, 'penalty': 'l2', 'solver': 'saga'}\n",
      "0.539077 (0.012672) with: {'C': 0.01, 'penalty': 'l2', 'solver': 'newton-cg'}\n",
      "0.539077 (0.012672) with: {'C': 0.01, 'penalty': 'l2', 'solver': 'lbfgs'}\n",
      "0.539077 (0.012672) with: {'C': 0.01, 'penalty': 'l2', 'solver': 'liblinear'}\n",
      "0.539077 (0.012672) with: {'C': 0.01, 'penalty': 'l2', 'solver': 'newton-cholesky'}\n",
      "0.539077 (0.012672) with: {'C': 0.01, 'penalty': 'l2', 'solver': 'sag'}\n",
      "0.539077 (0.012672) with: {'C': 0.01, 'penalty': 'l2', 'solver': 'saga'}\n"
     ]
    }
   ],
   "source": [
    "# define models and parameters\n",
    "model = LogisticRegression()\n",
    "solvers = ['newton-cg', 'lbfgs', 'liblinear', 'newton-cholesky', 'sag', 'saga']\n",
    "penalty = ['l2']\n",
    "c_values = [100, 10, 1.0, 0.1, 0.01]\n",
    "# define grid search\n",
    "grid = dict(solver=solvers,penalty=penalty,C=c_values)\n",
    "cv = RepeatedStratifiedKFold(n_splits=10, n_repeats=3, random_state=1)\n",
    "grid_search = GridSearchCV(estimator=model, param_grid=grid, n_jobs=-1, cv=cv, scoring='accuracy',error_score=0)\n",
    "grid_result = grid_search.fit(X, y)\n",
    "# summarize results\n",
    "print(\"Best: %f using %s\" % (grid_result.best_score_, grid_result.best_params_))\n",
    "means = grid_result.cv_results_['mean_test_score']\n",
    "stds = grid_result.cv_results_['std_test_score']\n",
    "params = grid_result.cv_results_['params']\n",
    "for mean, stdev, param in zip(means, stds, params):\n",
    "    print(\"%f (%f) with: %r\" % (mean, stdev, param))"
   ]
  },
  {
   "cell_type": "code",
   "execution_count": 228,
   "id": "29a0d4ad",
   "metadata": {},
   "outputs": [
    {
     "data": {
      "text/plain": [
       "['Logistic_Reg_Model.pkl']"
      ]
     },
     "execution_count": 228,
     "metadata": {},
     "output_type": "execute_result"
    }
   ],
   "source": [
    "joblib.dump(model_0,'Logistic_Reg_Model.pkl')"
   ]
  },
  {
   "cell_type": "code",
   "execution_count": 167,
   "id": "345b2dd6",
   "metadata": {},
   "outputs": [
    {
     "name": "stdout",
     "output_type": "stream",
     "text": [
      "Accuracy: 59.38 %\n",
      "Confusion Matrix:\n"
     ]
    },
    {
     "data": {
      "text/plain": [
       "<sklearn.metrics._plot.confusion_matrix.ConfusionMatrixDisplay at 0x1d80faa27d0>"
      ]
     },
     "execution_count": 167,
     "metadata": {},
     "output_type": "execute_result"
    },
    {
     "data": {
      "image/png": "[encoded data removed]",
      "text/plain": [
       "<Figure size 640x480 with 2 Axes>"
      ]
     },
     "metadata": {},
     "output_type": "display_data"
    }
   ],
   "source": [
    "# KNN\n",
    "X_train, X_test, y_train, y_test = train_test_split(X, y, test_size=0.25)\n",
    "scaler = StandardScaler()\n",
    "X_train = scaler.fit_transform(X_train)\n",
    "X_test = scaler.fit_transform(X_test)\n",
    "model_1 = KNeighborsClassifier(metric= 'euclidean',n_neighbors= 17, weights= 'uniform')\n",
    "\n",
    "# Fit the model to the training data\n",
    "model_1.fit(X_train, y_train)\n",
    "\n",
    "# Step 6: Make predictions on the test data\n",
    "y_pred = model_1.predict(X_test)\n",
    "\n",
    "# Step 7: Evaluate the model\n",
    "# Calculate accuracy\n",
    "accuracy = accuracy_score(y_test, y_pred) * 100\n",
    "print(f\"Accuracy: {accuracy:.2f} %\")\n",
    "print(f\"Confusion Matrix:\")\n",
    "# Confusion matrix\n",
    "conf_matrix = confusion_matrix(y_test, y_pred) \n",
    "disp = ConfusionMatrixDisplay(confusion_matrix=conf_matrix,\n",
    "                              display_labels=model_1.classes_)\n",
    "disp.plot()"
   ]
  },
  {
   "cell_type": "code",
   "execution_count": 168,
   "id": "a96a050d",
   "metadata": {},
   "outputs": [
    {
     "data": {
      "text/plain": [
       "['KNN_model.pkl']"
      ]
     },
     "execution_count": 168,
     "metadata": {},
     "output_type": "execute_result"
    }
   ],
   "source": [
    "joblib.dump(model_1, 'KNN_model.pkl')"
   ]
  },
  {
   "cell_type": "code",
   "execution_count": 33,
   "id": "9481fb6b",
   "metadata": {},
   "outputs": [
    {
     "name": "stdout",
     "output_type": "stream",
     "text": [
      "Best: 0.562745 using {'metric': 'euclidean', 'n_neighbors': 17, 'weights': 'uniform'}\n",
      "0.427206 (0.111126) with: {'metric': 'euclidean', 'n_neighbors': 1, 'weights': 'uniform'}\n",
      "0.427206 (0.111126) with: {'metric': 'euclidean', 'n_neighbors': 1, 'weights': 'distance'}\n",
      "0.483701 (0.157825) with: {'metric': 'euclidean', 'n_neighbors': 3, 'weights': 'uniform'}\n",
      "0.445221 (0.137503) with: {'metric': 'euclidean', 'n_neighbors': 3, 'weights': 'distance'}\n",
      "0.484191 (0.132422) with: {'metric': 'euclidean', 'n_neighbors': 5, 'weights': 'uniform'}\n",
      "0.458946 (0.144232) with: {'metric': 'euclidean', 'n_neighbors': 5, 'weights': 'distance'}\n",
      "0.494118 (0.127277) with: {'metric': 'euclidean', 'n_neighbors': 7, 'weights': 'uniform'}\n",
      "0.451103 (0.140658) with: {'metric': 'euclidean', 'n_neighbors': 7, 'weights': 'distance'}\n",
      "0.508701 (0.117392) with: {'metric': 'euclidean', 'n_neighbors': 9, 'weights': 'uniform'}\n",
      "0.451348 (0.127366) with: {'metric': 'euclidean', 'n_neighbors': 9, 'weights': 'distance'}\n",
      "0.531985 (0.104932) with: {'metric': 'euclidean', 'n_neighbors': 11, 'weights': 'uniform'}\n",
      "0.461029 (0.131491) with: {'metric': 'euclidean', 'n_neighbors': 11, 'weights': 'distance'}\n",
      "0.548407 (0.108748) with: {'metric': 'euclidean', 'n_neighbors': 13, 'weights': 'uniform'}\n",
      "0.463113 (0.127578) with: {'metric': 'euclidean', 'n_neighbors': 13, 'weights': 'distance'}\n",
      "0.548529 (0.101048) with: {'metric': 'euclidean', 'n_neighbors': 15, 'weights': 'uniform'}\n",
      "0.458946 (0.137469) with: {'metric': 'euclidean', 'n_neighbors': 15, 'weights': 'distance'}\n",
      "0.562745 (0.090374) with: {'metric': 'euclidean', 'n_neighbors': 17, 'weights': 'uniform'}\n",
      "0.456740 (0.132171) with: {'metric': 'euclidean', 'n_neighbors': 17, 'weights': 'distance'}\n",
      "0.542525 (0.097906) with: {'metric': 'euclidean', 'n_neighbors': 19, 'weights': 'uniform'}\n",
      "0.452819 (0.127686) with: {'metric': 'euclidean', 'n_neighbors': 19, 'weights': 'distance'}\n",
      "0.427206 (0.111126) with: {'metric': 'manhattan', 'n_neighbors': 1, 'weights': 'uniform'}\n",
      "0.427206 (0.111126) with: {'metric': 'manhattan', 'n_neighbors': 1, 'weights': 'distance'}\n",
      "0.483701 (0.157825) with: {'metric': 'manhattan', 'n_neighbors': 3, 'weights': 'uniform'}\n",
      "0.445221 (0.137503) with: {'metric': 'manhattan', 'n_neighbors': 3, 'weights': 'distance'}\n",
      "0.484191 (0.132422) with: {'metric': 'manhattan', 'n_neighbors': 5, 'weights': 'uniform'}\n",
      "0.458946 (0.144232) with: {'metric': 'manhattan', 'n_neighbors': 5, 'weights': 'distance'}\n",
      "0.494118 (0.127277) with: {'metric': 'manhattan', 'n_neighbors': 7, 'weights': 'uniform'}\n",
      "0.451103 (0.140658) with: {'metric': 'manhattan', 'n_neighbors': 7, 'weights': 'distance'}\n",
      "0.508701 (0.117392) with: {'metric': 'manhattan', 'n_neighbors': 9, 'weights': 'uniform'}\n",
      "0.451348 (0.127366) with: {'metric': 'manhattan', 'n_neighbors': 9, 'weights': 'distance'}\n",
      "0.531985 (0.104932) with: {'metric': 'manhattan', 'n_neighbors': 11, 'weights': 'uniform'}\n",
      "0.461029 (0.131491) with: {'metric': 'manhattan', 'n_neighbors': 11, 'weights': 'distance'}\n",
      "0.548407 (0.108748) with: {'metric': 'manhattan', 'n_neighbors': 13, 'weights': 'uniform'}\n",
      "0.463113 (0.127578) with: {'metric': 'manhattan', 'n_neighbors': 13, 'weights': 'distance'}\n",
      "0.548529 (0.101048) with: {'metric': 'manhattan', 'n_neighbors': 15, 'weights': 'uniform'}\n",
      "0.458946 (0.137469) with: {'metric': 'manhattan', 'n_neighbors': 15, 'weights': 'distance'}\n",
      "0.562745 (0.090374) with: {'metric': 'manhattan', 'n_neighbors': 17, 'weights': 'uniform'}\n",
      "0.456740 (0.132171) with: {'metric': 'manhattan', 'n_neighbors': 17, 'weights': 'distance'}\n",
      "0.542525 (0.097906) with: {'metric': 'manhattan', 'n_neighbors': 19, 'weights': 'uniform'}\n",
      "0.452819 (0.127686) with: {'metric': 'manhattan', 'n_neighbors': 19, 'weights': 'distance'}\n",
      "0.427206 (0.111126) with: {'metric': 'minkowski', 'n_neighbors': 1, 'weights': 'uniform'}\n",
      "0.427206 (0.111126) with: {'metric': 'minkowski', 'n_neighbors': 1, 'weights': 'distance'}\n",
      "0.483701 (0.157825) with: {'metric': 'minkowski', 'n_neighbors': 3, 'weights': 'uniform'}\n",
      "0.445221 (0.137503) with: {'metric': 'minkowski', 'n_neighbors': 3, 'weights': 'distance'}\n",
      "0.484191 (0.132422) with: {'metric': 'minkowski', 'n_neighbors': 5, 'weights': 'uniform'}\n",
      "0.458946 (0.144232) with: {'metric': 'minkowski', 'n_neighbors': 5, 'weights': 'distance'}\n",
      "0.494118 (0.127277) with: {'metric': 'minkowski', 'n_neighbors': 7, 'weights': 'uniform'}\n",
      "0.451103 (0.140658) with: {'metric': 'minkowski', 'n_neighbors': 7, 'weights': 'distance'}\n",
      "0.508701 (0.117392) with: {'metric': 'minkowski', 'n_neighbors': 9, 'weights': 'uniform'}\n",
      "0.451348 (0.127366) with: {'metric': 'minkowski', 'n_neighbors': 9, 'weights': 'distance'}\n",
      "0.531985 (0.104932) with: {'metric': 'minkowski', 'n_neighbors': 11, 'weights': 'uniform'}\n",
      "0.461029 (0.131491) with: {'metric': 'minkowski', 'n_neighbors': 11, 'weights': 'distance'}\n",
      "0.548407 (0.108748) with: {'metric': 'minkowski', 'n_neighbors': 13, 'weights': 'uniform'}\n",
      "0.463113 (0.127578) with: {'metric': 'minkowski', 'n_neighbors': 13, 'weights': 'distance'}\n",
      "0.548529 (0.101048) with: {'metric': 'minkowski', 'n_neighbors': 15, 'weights': 'uniform'}\n",
      "0.458946 (0.137469) with: {'metric': 'minkowski', 'n_neighbors': 15, 'weights': 'distance'}\n",
      "0.562745 (0.090374) with: {'metric': 'minkowski', 'n_neighbors': 17, 'weights': 'uniform'}\n",
      "0.456740 (0.132171) with: {'metric': 'minkowski', 'n_neighbors': 17, 'weights': 'distance'}\n",
      "0.542525 (0.097906) with: {'metric': 'minkowski', 'n_neighbors': 19, 'weights': 'uniform'}\n",
      "0.452819 (0.127686) with: {'metric': 'minkowski', 'n_neighbors': 19, 'weights': 'distance'}\n"
     ]
    }
   ],
   "source": [
    "model = KNeighborsClassifier()\n",
    "n_neighbors = range(1, 21, 2)\n",
    "weights = ['uniform', 'distance']\n",
    "metric = ['euclidean', 'manhattan', 'minkowski']\n",
    "# define grid search\n",
    "grid = dict(n_neighbors=n_neighbors,weights=weights,metric=metric)\n",
    "cv = RepeatedStratifiedKFold(n_splits=10, n_repeats=3, random_state=1)\n",
    "grid_search = GridSearchCV(estimator=model, param_grid=grid, n_jobs=-1, cv=cv, scoring='accuracy',error_score=0)\n",
    "grid_result = grid_search.fit(X_train, y_train)\n",
    "# summarize results\n",
    "print(\"Best: %f using %s\" % (grid_result.best_score_, grid_result.best_params_))\n",
    "means = grid_result.cv_results_['mean_test_score']\n",
    "stds = grid_result.cv_results_['std_test_score']\n",
    "params = grid_result.cv_results_['params']\n",
    "for mean, stdev, param in zip(means, stds, params):\n",
    "    print(\"%f (%f) with: %r\" % (mean, stdev, param))"
   ]
  },
  {
   "cell_type": "code",
   "execution_count": 186,
   "id": "ee0766e6",
   "metadata": {},
   "outputs": [
    {
     "name": "stdout",
     "output_type": "stream",
     "text": [
      "Accuracy: 62.34 %\n",
      "Confusion Matrix:\n"
     ]
    },
    {
     "data": {
      "text/plain": [
       "<sklearn.metrics._plot.confusion_matrix.ConfusionMatrixDisplay at 0x1d812d29050>"
      ]
     },
     "execution_count": 186,
     "metadata": {},
     "output_type": "execute_result"
    },
    {
     "data": {
      "image/png": "[encoded data removed]",
      "text/plain": [
       "<Figure size 640x480 with 2 Axes>"
      ]
     },
     "metadata": {},
     "output_type": "display_data"
    }
   ],
   "source": [
    "# SVM\n",
    "X_train, X_test, y_train, y_test = train_test_split(X, y, test_size=0.3)\n",
    "scaler = StandardScaler()\n",
    "X_train = scaler.fit_transform(X_train)\n",
    "X_test = scaler.fit_transform(X_test)\n",
    "model_2 = SVC(kernel='poly', gamma='scale', C=5)\n",
    "\n",
    "# Train the SVM classifier\n",
    "model_2.fit(X_train, y_train)\n",
    "\n",
    "# Make predictions on the test set\n",
    "y_pred = model_2.predict(X_test)\n",
    "\n",
    "# Evaluate the model\n",
    "accuracy = accuracy_score(y_test, y_pred) * 100\n",
    "conf_matrix = confusion_matrix(y_test, y_pred)\n",
    "\n",
    "# Print the results\n",
    "print(f\"Accuracy: {accuracy:.2f} %\")\n",
    "print(f\"Confusion Matrix:\")\n",
    "# Confusion matrix\n",
    "conf_matrix = confusion_matrix(y_test, y_pred) \n",
    "disp = ConfusionMatrixDisplay(confusion_matrix=conf_matrix,\n",
    "                              display_labels=model_2.classes_)\n",
    "disp.plot()"
   ]
  },
  {
   "cell_type": "code",
   "execution_count": 40,
   "id": "97db6a31",
   "metadata": {},
   "outputs": [
    {
     "name": "stdout",
     "output_type": "stream",
     "text": [
      "Best: 0.552105 using {'C': 5.0, 'gamma': 'scale', 'kernel': 'poly'}\n"
     ]
    },
    {
     "name": "stderr",
     "output_type": "stream",
     "text": [
      "12it [00:00, 6014.06it/s]"
     ]
    },
    {
     "name": "stdout",
     "output_type": "stream",
     "text": [
      "0.552105 (0.023561) with: {'C': 5.0, 'gamma': 'scale', 'kernel': 'poly'}\n",
      "0.525965 (0.038806) with: {'C': 5.0, 'gamma': 'scale', 'kernel': 'rbf'}\n",
      "0.492632 (0.091184) with: {'C': 5.0, 'gamma': 'scale', 'kernel': 'sigmoid'}\n",
      "0.552105 (0.023561) with: {'C': 1.0, 'gamma': 'scale', 'kernel': 'poly'}\n",
      "0.529386 (0.034859) with: {'C': 1.0, 'gamma': 'scale', 'kernel': 'rbf'}\n",
      "0.508246 (0.093114) with: {'C': 1.0, 'gamma': 'scale', 'kernel': 'sigmoid'}\n",
      "0.552105 (0.023561) with: {'C': 0.1, 'gamma': 'scale', 'kernel': 'poly'}\n",
      "0.552105 (0.023561) with: {'C': 0.1, 'gamma': 'scale', 'kernel': 'rbf'}\n",
      "0.552105 (0.023561) with: {'C': 0.1, 'gamma': 'scale', 'kernel': 'sigmoid'}\n",
      "0.552105 (0.023561) with: {'C': 0.01, 'gamma': 'scale', 'kernel': 'poly'}\n",
      "0.552105 (0.023561) with: {'C': 0.01, 'gamma': 'scale', 'kernel': 'rbf'}\n",
      "0.552105 (0.023561) with: {'C': 0.01, 'gamma': 'scale', 'kernel': 'sigmoid'}\n"
     ]
    },
    {
     "name": "stderr",
     "output_type": "stream",
     "text": [
      "\n"
     ]
    }
   ],
   "source": [
    "# define model and parameters\n",
    "from tqdm import tqdm\n",
    "model = SVC()\n",
    "kernel = ['poly', 'rbf', 'sigmoid']\n",
    "C = [5.0, 1.0, 0.1, 0.01]\n",
    "gamma = ['scale']\n",
    "# define grid search\n",
    "grid = dict(kernel=kernel,C=C,gamma=gamma)\n",
    "cv = RepeatedStratifiedKFold(n_splits=10, n_repeats=3)\n",
    "grid_search = GridSearchCV(estimator=model, param_grid=grid, n_jobs=-1, cv=cv, scoring='accuracy',error_score=0)\n",
    "grid_result = grid_search.fit(X_train, y_train)\n",
    "# summarize results\n",
    "print(\"Best: %f using %s\" % (grid_result.best_score_, grid_result.best_params_))\n",
    "means = grid_result.cv_results_['mean_test_score']\n",
    "stds = grid_result.cv_results_['std_test_score']\n",
    "params = grid_result.cv_results_['params']\n",
    "for mean, stdev, param in tqdm(zip(means, stds, params)):\n",
    "    print(\"%f (%f) with: %r\" % (mean, stdev, param))"
   ]
  },
  {
   "cell_type": "code",
   "execution_count": 187,
   "id": "c380b9b5",
   "metadata": {},
   "outputs": [
    {
     "data": {
      "text/plain": [
       "['SVM_Model.pkl']"
      ]
     },
     "execution_count": 187,
     "metadata": {},
     "output_type": "execute_result"
    }
   ],
   "source": [
    "joblib.dump(model_2, 'SVM_Model.pkl')"
   ]
  },
  {
   "cell_type": "code",
   "execution_count": 64,
   "id": "bb6038b7",
   "metadata": {},
   "outputs": [
    {
     "name": "stdout",
     "output_type": "stream",
     "text": [
      "Accuracy: 69.23 %\n",
      "Confusion Matrix:\n"
     ]
    },
    {
     "data": {
      "text/plain": [
       "<sklearn.metrics._plot.confusion_matrix.ConfusionMatrixDisplay at 0x1d8053c20d0>"
      ]
     },
     "execution_count": 64,
     "metadata": {},
     "output_type": "execute_result"
    },
    {
     "data": {
      "image/png": "[encoded data removed]",
      "text/plain": [
       "<Figure size 640x480 with 2 Axes>"
      ]
     },
     "metadata": {},
     "output_type": "display_data"
    }
   ],
   "source": [
    "# Decision Tree\n",
    "X_train, X_test, y_train, y_test = train_test_split(X, y, test_size=0.2)\n",
    "scaler = StandardScaler()\n",
    "X_train = scaler.fit_transform(X_train)\n",
    "X_test = scaler.fit_transform(X_test)\n",
    "model_3 =  BaggingClassifier(n_estimators= 10, max_samples=50)\n",
    "model_3.fit(X_train, y_train)\n",
    "y_pred = model_3.predict(X_test)\n",
    "\n",
    "# Evaluate the model\n",
    "accuracy = accuracy_score(y_test, y_pred) * 100\n",
    "conf_matrix = confusion_matrix(y_test, y_pred)\n",
    "\n",
    "# Print the results\n",
    "print(f\"Accuracy: {accuracy:.2f} %\")\n",
    "print(f\"Confusion Matrix:\")\n",
    "# Confusion matrix\n",
    "conf_matrix = confusion_matrix(y_test, y_pred) \n",
    "disp = ConfusionMatrixDisplay(confusion_matrix=conf_matrix,\n",
    "                              display_labels=model_3.classes_)\n",
    "disp.plot()"
   ]
  },
  {
   "cell_type": "code",
   "execution_count": 86,
   "id": "ac6aa70b",
   "metadata": {},
   "outputs": [
    {
     "data": {
      "text/plain": [
       "['bagging_decision_tree.pkl']"
      ]
     },
     "execution_count": 86,
     "metadata": {},
     "output_type": "execute_result"
    }
   ],
   "source": [
    "joblib.dump(model_3, 'bagging_decision_tree.pkl')"
   ]
  },
  {
   "cell_type": "code",
   "execution_count": 12,
   "id": "e5a2d2a5",
   "metadata": {},
   "outputs": [
    {
     "name": "stdout",
     "output_type": "stream",
     "text": [
      "Best: 0.516923 using {'max_features': 1, 'max_samples': 2, 'n_estimators': 10}\n",
      "0.489641 (0.039753) with: {'max_features': 1, 'max_samples': 1, 'n_estimators': 2}\n",
      "0.494564 (0.040719) with: {'max_features': 1, 'max_samples': 1, 'n_estimators': 10}\n",
      "0.508000 (0.040294) with: {'max_features': 1, 'max_samples': 1, 'n_estimators': 50}\n",
      "0.486769 (0.062074) with: {'max_features': 1, 'max_samples': 2, 'n_estimators': 2}\n",
      "0.516923 (0.074100) with: {'max_features': 1, 'max_samples': 2, 'n_estimators': 10}\n",
      "0.488359 (0.080498) with: {'max_features': 1, 'max_samples': 2, 'n_estimators': 50}\n",
      "0.475385 (0.083923) with: {'max_features': 1, 'max_samples': 5, 'n_estimators': 2}\n",
      "0.485692 (0.075952) with: {'max_features': 1, 'max_samples': 5, 'n_estimators': 10}\n",
      "0.514205 (0.081518) with: {'max_features': 1, 'max_samples': 5, 'n_estimators': 50}\n",
      "0.502205 (0.090256) with: {'max_features': 1, 'max_samples': 10, 'n_estimators': 2}\n",
      "0.491590 (0.085431) with: {'max_features': 1, 'max_samples': 10, 'n_estimators': 10}\n",
      "0.511538 (0.088492) with: {'max_features': 1, 'max_samples': 10, 'n_estimators': 50}\n",
      "0.494256 (0.083438) with: {'max_features': 1, 'max_samples': 50, 'n_estimators': 2}\n",
      "0.497846 (0.105956) with: {'max_features': 1, 'max_samples': 50, 'n_estimators': 10}\n",
      "0.482667 (0.103798) with: {'max_features': 1, 'max_samples': 50, 'n_estimators': 50}\n",
      "0.000000 (0.000000) with: {'max_features': 2, 'max_samples': 1, 'n_estimators': 2}\n",
      "0.000000 (0.000000) with: {'max_features': 2, 'max_samples': 1, 'n_estimators': 10}\n",
      "0.000000 (0.000000) with: {'max_features': 2, 'max_samples': 1, 'n_estimators': 50}\n",
      "0.000000 (0.000000) with: {'max_features': 2, 'max_samples': 2, 'n_estimators': 2}\n",
      "0.000000 (0.000000) with: {'max_features': 2, 'max_samples': 2, 'n_estimators': 10}\n",
      "0.000000 (0.000000) with: {'max_features': 2, 'max_samples': 2, 'n_estimators': 50}\n",
      "0.000000 (0.000000) with: {'max_features': 2, 'max_samples': 5, 'n_estimators': 2}\n",
      "0.000000 (0.000000) with: {'max_features': 2, 'max_samples': 5, 'n_estimators': 10}\n",
      "0.000000 (0.000000) with: {'max_features': 2, 'max_samples': 5, 'n_estimators': 50}\n",
      "0.000000 (0.000000) with: {'max_features': 2, 'max_samples': 10, 'n_estimators': 2}\n",
      "0.000000 (0.000000) with: {'max_features': 2, 'max_samples': 10, 'n_estimators': 10}\n",
      "0.000000 (0.000000) with: {'max_features': 2, 'max_samples': 10, 'n_estimators': 50}\n",
      "0.000000 (0.000000) with: {'max_features': 2, 'max_samples': 50, 'n_estimators': 2}\n",
      "0.000000 (0.000000) with: {'max_features': 2, 'max_samples': 50, 'n_estimators': 10}\n",
      "0.000000 (0.000000) with: {'max_features': 2, 'max_samples': 50, 'n_estimators': 50}\n",
      "0.000000 (0.000000) with: {'max_features': 5, 'max_samples': 1, 'n_estimators': 2}\n",
      "0.000000 (0.000000) with: {'max_features': 5, 'max_samples': 1, 'n_estimators': 10}\n",
      "0.000000 (0.000000) with: {'max_features': 5, 'max_samples': 1, 'n_estimators': 50}\n",
      "0.000000 (0.000000) with: {'max_features': 5, 'max_samples': 2, 'n_estimators': 2}\n",
      "0.000000 (0.000000) with: {'max_features': 5, 'max_samples': 2, 'n_estimators': 10}\n",
      "0.000000 (0.000000) with: {'max_features': 5, 'max_samples': 2, 'n_estimators': 50}\n",
      "0.000000 (0.000000) with: {'max_features': 5, 'max_samples': 5, 'n_estimators': 2}\n",
      "0.000000 (0.000000) with: {'max_features': 5, 'max_samples': 5, 'n_estimators': 10}\n",
      "0.000000 (0.000000) with: {'max_features': 5, 'max_samples': 5, 'n_estimators': 50}\n",
      "0.000000 (0.000000) with: {'max_features': 5, 'max_samples': 10, 'n_estimators': 2}\n",
      "0.000000 (0.000000) with: {'max_features': 5, 'max_samples': 10, 'n_estimators': 10}\n",
      "0.000000 (0.000000) with: {'max_features': 5, 'max_samples': 10, 'n_estimators': 50}\n",
      "0.000000 (0.000000) with: {'max_features': 5, 'max_samples': 50, 'n_estimators': 2}\n",
      "0.000000 (0.000000) with: {'max_features': 5, 'max_samples': 50, 'n_estimators': 10}\n",
      "0.000000 (0.000000) with: {'max_features': 5, 'max_samples': 50, 'n_estimators': 50}\n",
      "0.000000 (0.000000) with: {'max_features': 10, 'max_samples': 1, 'n_estimators': 2}\n",
      "0.000000 (0.000000) with: {'max_features': 10, 'max_samples': 1, 'n_estimators': 10}\n",
      "0.000000 (0.000000) with: {'max_features': 10, 'max_samples': 1, 'n_estimators': 50}\n",
      "0.000000 (0.000000) with: {'max_features': 10, 'max_samples': 2, 'n_estimators': 2}\n",
      "0.000000 (0.000000) with: {'max_features': 10, 'max_samples': 2, 'n_estimators': 10}\n",
      "0.000000 (0.000000) with: {'max_features': 10, 'max_samples': 2, 'n_estimators': 50}\n",
      "0.000000 (0.000000) with: {'max_features': 10, 'max_samples': 5, 'n_estimators': 2}\n",
      "0.000000 (0.000000) with: {'max_features': 10, 'max_samples': 5, 'n_estimators': 10}\n",
      "0.000000 (0.000000) with: {'max_features': 10, 'max_samples': 5, 'n_estimators': 50}\n",
      "0.000000 (0.000000) with: {'max_features': 10, 'max_samples': 10, 'n_estimators': 2}\n",
      "0.000000 (0.000000) with: {'max_features': 10, 'max_samples': 10, 'n_estimators': 10}\n",
      "0.000000 (0.000000) with: {'max_features': 10, 'max_samples': 10, 'n_estimators': 50}\n",
      "0.000000 (0.000000) with: {'max_features': 10, 'max_samples': 50, 'n_estimators': 2}\n",
      "0.000000 (0.000000) with: {'max_features': 10, 'max_samples': 50, 'n_estimators': 10}\n",
      "0.000000 (0.000000) with: {'max_features': 10, 'max_samples': 50, 'n_estimators': 50}\n"
     ]
    },
    {
     "name": "stderr",
     "output_type": "stream",
     "text": [
      "C:\\Users\\ompat\\anaconda3\\Lib\\site-packages\\sklearn\\model_selection\\_validation.py:378: FitFailedWarning: \n",
      "1350 fits failed out of a total of 1800.\n",
      "The score on these train-test partitions for these parameters will be set to 0.\n",
      "If these failures are not expected, you can try to debug them by setting error_score='raise'.\n",
      "\n",
      "Below are more details about the failures:\n",
      "--------------------------------------------------------------------------------\n",
      "1350 fits failed with the following error:\n",
      "Traceback (most recent call last):\n",
      "  File \"C:\\Users\\ompat\\anaconda3\\Lib\\site-packages\\sklearn\\model_selection\\_validation.py\", line 686, in _fit_and_score\n",
      "    estimator.fit(X_train, y_train, **fit_params)\n",
      "  File \"C:\\Users\\ompat\\anaconda3\\Lib\\site-packages\\sklearn\\ensemble\\_bagging.py\", line 337, in fit\n",
      "    return self._fit(X, y, self.max_samples, sample_weight=sample_weight)\n",
      "           ^^^^^^^^^^^^^^^^^^^^^^^^^^^^^^^^^^^^^^^^^^^^^^^^^^^^^^^^^^^^^^\n",
      "  File \"C:\\Users\\ompat\\anaconda3\\Lib\\site-packages\\sklearn\\ensemble\\_bagging.py\", line 420, in _fit\n",
      "    raise ValueError(\"max_features must be <= n_features\")\n",
      "ValueError: max_features must be <= n_features\n",
      "\n",
      "  warnings.warn(some_fits_failed_message, FitFailedWarning)\n"
     ]
    }
   ],
   "source": [
    "# define models and parameters\n",
    "model = BaggingClassifier()\n",
    "n_estimators = [2, 10, 50]\n",
    "max_samples = [1, 2, 5, 10, 50]\n",
    "max_features = [1, 2, 5, 10]\n",
    "# define grid search\n",
    "grid = dict(n_estimators=n_estimators, max_samples=max_samples, max_features=max_features)\n",
    "cv = RepeatedStratifiedKFold(n_splits=10, n_repeats=3)\n",
    "grid_search = GridSearchCV(estimator=model, param_grid=grid, n_jobs=-1, cv=cv, scoring='accuracy',error_score=0)\n",
    "grid_result = grid_search.fit(X, y)\n",
    "# summarize results\n",
    "print(\"Best: %f using %s\" % (grid_result.best_score_, grid_result.best_params_))\n",
    "means = grid_result.cv_results_['mean_test_score']\n",
    "stds = grid_result.cv_results_['std_test_score']\n",
    "params = grid_result.cv_results_['params']\n",
    "for mean, stdev, param in zip(means, stds, params):\n",
    "    print(\"%f (%f) with: %r\" % (mean, stdev, param))"
   ]
  },
  {
   "cell_type": "code",
   "execution_count": 193,
   "id": "c117e542",
   "metadata": {},
   "outputs": [
    {
     "name": "stdout",
     "output_type": "stream",
     "text": [
      "Accuracy: 64.94 %\n",
      "Confusion Matrix:\n"
     ]
    },
    {
     "data": {
      "text/plain": [
       "<sklearn.metrics._plot.confusion_matrix.ConfusionMatrixDisplay at 0x1d812acd210>"
      ]
     },
     "execution_count": 193,
     "metadata": {},
     "output_type": "execute_result"
    },
    {
     "data": {
      "image/png": "[encoded data removed]",
      "text/plain": [
       "<Figure size 640x480 with 2 Axes>"
      ]
     },
     "metadata": {},
     "output_type": "display_data"
    }
   ],
   "source": [
    "# Random Forest\n",
    "X_train, X_test, y_train, y_test = train_test_split(X, y, test_size=0.3)\n",
    "scaler = StandardScaler()\n",
    "X_train = scaler.fit_transform(X_train)\n",
    "X_test = scaler.fit_transform(X_test)\n",
    "model_4 =  RandomForestClassifier(max_features= 'sqrt', n_estimators=100)\n",
    "model_4.fit(X_train, y_train)\n",
    "y_pred = model_4.predict(X_test)\n",
    "\n",
    "# Evaluate the model\n",
    "accuracy = accuracy_score(y_test, y_pred) * 100\n",
    "conf_matrix = confusion_matrix(y_test, y_pred)\n",
    "\n",
    "# Print the results\n",
    "print(f\"Accuracy: {accuracy:.2f} %\")\n",
    "print(f\"Confusion Matrix:\")\n",
    "# Confusion matrix\n",
    "conf_matrix = confusion_matrix(y_test, y_pred) \n",
    "disp = ConfusionMatrixDisplay(confusion_matrix=conf_matrix,\n",
    "                              display_labels=model_4.classes_)\n",
    "disp.plot()"
   ]
  },
  {
   "cell_type": "code",
   "execution_count": 194,
   "id": "93352831",
   "metadata": {},
   "outputs": [
    {
     "data": {
      "text/plain": [
       "['Random_forest_model.pkl']"
      ]
     },
     "execution_count": 194,
     "metadata": {},
     "output_type": "execute_result"
    }
   ],
   "source": [
    "joblib.dump(model_4, 'Random_forest_model.pkl')"
   ]
  },
  {
   "cell_type": "code",
   "execution_count": 261,
   "id": "6ef6dc74",
   "metadata": {},
   "outputs": [
    {
     "name": "stdout",
     "output_type": "stream",
     "text": [
      "Best: 0.424474 using {'max_features': 'log2', 'n_estimators': 10}\n",
      "0.420877 (0.119589) with: {'max_features': 'sqrt', 'n_estimators': 10}\n",
      "0.408772 (0.114964) with: {'max_features': 'sqrt', 'n_estimators': 100}\n",
      "0.424474 (0.116903) with: {'max_features': 'log2', 'n_estimators': 10}\n",
      "0.408772 (0.114964) with: {'max_features': 'log2', 'n_estimators': 100}\n"
     ]
    }
   ],
   "source": [
    "model = RandomForestClassifier()\n",
    "n_estimators = [10, 100]\n",
    "max_features = ['sqrt', 'log2']\n",
    "# define grid search\n",
    "grid = dict(n_estimators=n_estimators,max_features=max_features)\n",
    "cv = RepeatedStratifiedKFold(n_splits=10, n_repeats=3)\n",
    "grid_search = GridSearchCV(estimator=model, param_grid=grid, n_jobs=-1, cv=cv, scoring='accuracy',error_score=0)\n",
    "grid_result = grid_search.fit(X_train, y_train)\n",
    "# summarize results\n",
    "print(\"Best: %f using %s\" % (grid_result.best_score_, grid_result.best_params_))\n",
    "means = grid_result.cv_results_['mean_test_score']\n",
    "stds = grid_result.cv_results_['std_test_score']\n",
    "params = grid_result.cv_results_['params']\n",
    "for mean, stdev, param in zip(means, stds, params):\n",
    "    print(\"%f (%f) with: %r\" % (mean, stdev, param))"
   ]
  },
  {
   "cell_type": "code",
   "execution_count": 258,
   "id": "522a0b41",
   "metadata": {},
   "outputs": [
    {
     "name": "stdout",
     "output_type": "stream",
     "text": [
      "Accuracy: 60.94 %\n",
      "Confusion Matrix:\n"
     ]
    },
    {
     "data": {
      "text/plain": [
       "<sklearn.metrics._plot.confusion_matrix.ConfusionMatrixDisplay at 0x1d81ac75b10>"
      ]
     },
     "execution_count": 258,
     "metadata": {},
     "output_type": "execute_result"
    },
    {
     "data": {
      "image/png": "[encoded data removed]",
      "text/plain": [
       "<Figure size 640x480 with 2 Axes>"
      ]
     },
     "metadata": {},
     "output_type": "display_data"
    }
   ],
   "source": [
    "X_train, X_test, y_train, y_test = train_test_split(X, y, test_size=0.25)\n",
    "scaler = StandardScaler()\n",
    "X_train = scaler.fit_transform(X_train)\n",
    "X_test = scaler.fit_transform(X_test)\n",
    "model_5 =  GaussianNB(var_smoothing=1.0)\n",
    "model_5.fit(X_train, y_train)\n",
    "y_pred = model_5.predict(X_test)\n",
    "\n",
    "# Evaluate the model\n",
    "accuracy = accuracy_score(y_test, y_pred) * 100\n",
    "conf_matrix = confusion_matrix(y_test, y_pred)\n",
    "\n",
    "# Print the results\n",
    "print(f\"Accuracy: {accuracy:.2f} %\")\n",
    "print(f\"Confusion Matrix:\")\n",
    "# Confusion matrix\n",
    "conf_matrix = confusion_matrix(y_test, y_pred) \n",
    "disp = ConfusionMatrixDisplay(confusion_matrix=conf_matrix,\n",
    "                              display_labels=model_5.classes_)\n",
    "disp.plot()"
   ]
  },
  {
   "cell_type": "code",
   "execution_count": 260,
   "id": "65404935",
   "metadata": {},
   "outputs": [
    {
     "name": "stdout",
     "output_type": "stream",
     "text": [
      "Best Accuracy: 0.5019 using {'var_smoothing': 1.0}\n",
      "0.5019 (0.0557) with: {'var_smoothing': 1.0}\n",
      "0.4950 (0.0625) with: {'var_smoothing': 0.8111308307896871}\n",
      "0.4881 (0.0679) with: {'var_smoothing': 0.657933224657568}\n",
      "0.4865 (0.0687) with: {'var_smoothing': 0.533669923120631}\n",
      "0.4777 (0.0691) with: {'var_smoothing': 0.43287612810830584}\n",
      "0.4794 (0.0635) with: {'var_smoothing': 0.3511191734215131}\n",
      "0.4828 (0.0580) with: {'var_smoothing': 0.2848035868435802}\n",
      "0.4776 (0.0518) with: {'var_smoothing': 0.23101297000831597}\n",
      "0.4759 (0.0528) with: {'var_smoothing': 0.1873817422860384}\n",
      "0.4706 (0.0570) with: {'var_smoothing': 0.15199110829529336}\n",
      "0.4741 (0.0571) with: {'var_smoothing': 0.12328467394420659}\n",
      "0.4741 (0.0571) with: {'var_smoothing': 0.1}\n",
      "0.4741 (0.0571) with: {'var_smoothing': 0.08111308307896872}\n",
      "0.4725 (0.0570) with: {'var_smoothing': 0.0657933224657568}\n",
      "0.4760 (0.0616) with: {'var_smoothing': 0.0533669923120631}\n",
      "0.4760 (0.0616) with: {'var_smoothing': 0.04328761281083057}\n",
      "0.4760 (0.0616) with: {'var_smoothing': 0.03511191734215131}\n",
      "0.4760 (0.0616) with: {'var_smoothing': 0.02848035868435802}\n",
      "0.4760 (0.0616) with: {'var_smoothing': 0.02310129700083159}\n",
      "0.4760 (0.0616) with: {'var_smoothing': 0.01873817422860384}\n",
      "0.4760 (0.0616) with: {'var_smoothing': 0.01519911082952933}\n",
      "0.4760 (0.0616) with: {'var_smoothing': 0.012328467394420659}\n",
      "0.4725 (0.0632) with: {'var_smoothing': 0.01}\n",
      "0.4725 (0.0632) with: {'var_smoothing': 0.008111308307896872}\n",
      "0.4725 (0.0632) with: {'var_smoothing': 0.006579332246575682}\n",
      "0.4725 (0.0632) with: {'var_smoothing': 0.005336699231206307}\n",
      "0.4725 (0.0632) with: {'var_smoothing': 0.004328761281083057}\n",
      "0.4725 (0.0632) with: {'var_smoothing': 0.003511191734215131}\n",
      "0.4707 (0.0624) with: {'var_smoothing': 0.002848035868435802}\n",
      "0.4707 (0.0624) with: {'var_smoothing': 0.0023101297000831605}\n",
      "0.4707 (0.0624) with: {'var_smoothing': 0.001873817422860383}\n",
      "0.4707 (0.0624) with: {'var_smoothing': 0.0015199110829529332}\n",
      "0.4707 (0.0624) with: {'var_smoothing': 0.0012328467394420659}\n",
      "0.4707 (0.0624) with: {'var_smoothing': 0.001}\n",
      "0.4707 (0.0624) with: {'var_smoothing': 0.0008111308307896872}\n",
      "0.4707 (0.0624) with: {'var_smoothing': 0.0006579332246575676}\n",
      "0.4707 (0.0624) with: {'var_smoothing': 0.0005336699231206307}\n",
      "0.4707 (0.0624) with: {'var_smoothing': 0.0004328761281083057}\n",
      "0.4707 (0.0624) with: {'var_smoothing': 0.0003511191734215131}\n",
      "0.4707 (0.0624) with: {'var_smoothing': 0.0002848035868435802}\n",
      "0.4707 (0.0624) with: {'var_smoothing': 0.0002310129700083158}\n",
      "0.4707 (0.0624) with: {'var_smoothing': 0.0001873817422860383}\n",
      "0.4707 (0.0624) with: {'var_smoothing': 0.0001519911082952933}\n",
      "0.4707 (0.0624) with: {'var_smoothing': 0.0001232846739442066}\n",
      "0.4725 (0.0586) with: {'var_smoothing': 0.0001}\n",
      "0.4725 (0.0586) with: {'var_smoothing': 8.111308307896872e-05}\n",
      "0.4725 (0.0586) with: {'var_smoothing': 6.579332246575683e-05}\n",
      "0.4725 (0.0586) with: {'var_smoothing': 5.3366992312063123e-05}\n",
      "0.4725 (0.0586) with: {'var_smoothing': 4.328761281083062e-05}\n",
      "0.4725 (0.0586) with: {'var_smoothing': 3.511191734215127e-05}\n",
      "0.4725 (0.0586) with: {'var_smoothing': 2.848035868435799e-05}\n",
      "0.4725 (0.0586) with: {'var_smoothing': 2.310129700083158e-05}\n",
      "0.4725 (0.0586) with: {'var_smoothing': 1.873817422860383e-05}\n",
      "0.4725 (0.0586) with: {'var_smoothing': 1.5199110829529332e-05}\n",
      "0.4725 (0.0586) with: {'var_smoothing': 1.2328467394420658e-05}\n",
      "0.4725 (0.0586) with: {'var_smoothing': 1e-05}\n",
      "0.4725 (0.0586) with: {'var_smoothing': 8.111308307896873e-06}\n",
      "0.4725 (0.0586) with: {'var_smoothing': 6.579332246575683e-06}\n",
      "0.4725 (0.0586) with: {'var_smoothing': 5.336699231206313e-06}\n",
      "0.4725 (0.0586) with: {'var_smoothing': 4.328761281083053e-06}\n",
      "0.4725 (0.0586) with: {'var_smoothing': 3.5111917342151275e-06}\n",
      "0.4725 (0.0586) with: {'var_smoothing': 2.848035868435799e-06}\n",
      "0.4725 (0.0586) with: {'var_smoothing': 2.310129700083158e-06}\n",
      "0.4725 (0.0586) with: {'var_smoothing': 1.873817422860383e-06}\n",
      "0.4725 (0.0586) with: {'var_smoothing': 1.519911082952933e-06}\n",
      "0.4725 (0.0586) with: {'var_smoothing': 1.232846739442066e-06}\n",
      "0.4725 (0.0586) with: {'var_smoothing': 1e-06}\n",
      "0.4725 (0.0586) with: {'var_smoothing': 8.111308307896872e-07}\n",
      "0.4725 (0.0586) with: {'var_smoothing': 6.579332246575682e-07}\n",
      "0.4725 (0.0586) with: {'var_smoothing': 5.336699231206313e-07}\n",
      "0.4725 (0.0586) with: {'var_smoothing': 4.3287612810830526e-07}\n",
      "0.4725 (0.0586) with: {'var_smoothing': 3.5111917342151277e-07}\n",
      "0.4725 (0.0586) with: {'var_smoothing': 2.848035868435799e-07}\n",
      "0.4725 (0.0586) with: {'var_smoothing': 2.310129700083158e-07}\n",
      "0.4725 (0.0586) with: {'var_smoothing': 1.873817422860383e-07}\n",
      "0.4725 (0.0586) with: {'var_smoothing': 1.519911082952933e-07}\n",
      "0.4725 (0.0586) with: {'var_smoothing': 1.232846739442066e-07}\n",
      "0.4725 (0.0586) with: {'var_smoothing': 1e-07}\n",
      "0.4725 (0.0586) with: {'var_smoothing': 8.111308307896873e-08}\n",
      "0.4725 (0.0586) with: {'var_smoothing': 6.579332246575682e-08}\n",
      "0.4725 (0.0586) with: {'var_smoothing': 5.336699231206302e-08}\n",
      "0.4725 (0.0586) with: {'var_smoothing': 4.3287612810830526e-08}\n",
      "0.4725 (0.0586) with: {'var_smoothing': 3.5111917342151277e-08}\n",
      "0.4725 (0.0586) with: {'var_smoothing': 2.848035868435799e-08}\n",
      "0.4725 (0.0586) with: {'var_smoothing': 2.310129700083158e-08}\n",
      "0.4725 (0.0586) with: {'var_smoothing': 1.873817422860383e-08}\n",
      "0.4725 (0.0586) with: {'var_smoothing': 1.519911082952933e-08}\n",
      "0.4725 (0.0586) with: {'var_smoothing': 1.232846739442066e-08}\n",
      "0.4725 (0.0586) with: {'var_smoothing': 1e-08}\n",
      "0.4725 (0.0586) with: {'var_smoothing': 8.111308307896856e-09}\n",
      "0.4725 (0.0586) with: {'var_smoothing': 6.579332246575682e-09}\n",
      "0.4725 (0.0586) with: {'var_smoothing': 5.336699231206302e-09}\n",
      "0.4725 (0.0586) with: {'var_smoothing': 4.328761281083061e-09}\n",
      "0.4725 (0.0586) with: {'var_smoothing': 3.5111917342151273e-09}\n",
      "0.4725 (0.0586) with: {'var_smoothing': 2.848035868435805e-09}\n",
      "0.4725 (0.0586) with: {'var_smoothing': 2.310129700083158e-09}\n",
      "0.4725 (0.0586) with: {'var_smoothing': 1.873817422860387e-09}\n",
      "0.4725 (0.0586) with: {'var_smoothing': 1.519911082952933e-09}\n",
      "0.4725 (0.0586) with: {'var_smoothing': 1.2328467394420635e-09}\n",
      "0.4725 (0.0586) with: {'var_smoothing': 1e-09}\n"
     ]
    }
   ],
   "source": [
    "model = GaussianNB()\n",
    "\n",
    "# Define the hyperparameters to tune\n",
    "param_grid = {\n",
    "    'var_smoothing': np.logspace(0, -9, num=100)\n",
    "}\n",
    "\n",
    "# Define the cross-validation strategy\n",
    "cv = RepeatedStratifiedKFold(n_splits=10, n_repeats=3)\n",
    "\n",
    "# Define the grid search\n",
    "grid_search = GridSearchCV(estimator=model, param_grid=param_grid, n_jobs=-1, cv=cv, scoring='accuracy', error_score=0)\n",
    "\n",
    "# Fit the model\n",
    "grid_result = grid_search.fit(X_train, y_train)\n",
    "\n",
    "# Summarize the best score and hyperparameters\n",
    "print(f\"Best Accuracy: {grid_result.best_score_:.4f} using {grid_result.best_params_}\")\n",
    "\n",
    "# Summarize all results\n",
    "means = grid_result.cv_results_['mean_test_score']\n",
    "stds = grid_result.cv_results_['std_test_score']\n",
    "params = grid_result.cv_results_['params']\n",
    "\n",
    "for mean, stdev, param in zip(means, stds, params):\n",
    "    print(f\"{mean:.4f} ({stdev:.4f}) with: {param}\")"
   ]
  },
  {
   "cell_type": "code",
   "execution_count": 259,
   "id": "9242fb36",
   "metadata": {},
   "outputs": [
    {
     "data": {
      "text/plain": [
       "['Gaussian_NB.pkl']"
      ]
     },
     "execution_count": 259,
     "metadata": {},
     "output_type": "execute_result"
    }
   ],
   "source": [
    "joblib.dump(model_5, 'Gaussian_NB.pkl')"
   ]
  },
  {
   "cell_type": "code",
   "execution_count": null,
   "id": "832d29cb",
   "metadata": {},
   "outputs": [],
   "source": []
  }
 ],
 "metadata": {
  "kernelspec": {
   "display_name": "Python 3 (ipykernel)",
   "language": "python",
   "name": "python3"
  },
  "language_info": {
   "codemirror_mode": {
    "name": "ipython",
    "version": 3
   },
   "file_extension": ".py",
   "mimetype": "text/x-python",
   "name": "python",
   "nbconvert_exporter": "python",
   "pygments_lexer": "ipython3",
   "version": "3.11.7"
  }
 },
 "nbformat": 4,
 "nbformat_minor": 5
}
